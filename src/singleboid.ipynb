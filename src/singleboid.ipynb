{
 "cells": [
  {
   "cell_type": "code",
   "execution_count": 1,
   "metadata": {},
   "outputs": [
    {
     "name": "stdout",
     "output_type": "stream",
     "text": [
      "pygame 2.5.2 (SDL 2.28.3, Python 3.9.6)\n",
      "Hello from the pygame community. https://www.pygame.org/contribute.html\n"
     ]
    }
   ],
   "source": [
    "from mdl.Flight import Boid2D\n",
    "from mdl.Graphics import Graphics\n",
    "from moviepy.editor import VideoClip\n",
    "import numpy as np\n",
    "import math"
   ]
  },
  {
   "cell_type": "code",
   "execution_count": 2,
   "metadata": {},
   "outputs": [],
   "source": [
    "def add_lift(boid, dt=1):\n",
    "    # Calculate lift\n",
    "    lift_force = np.array(boid.lift)\n",
    "\n",
    "    delta_V = (dt * lift_force) / boid.Mass\n",
    "\n",
    "\n",
    "    newVx = boid.Vx + delta_V[0]\n",
    "    newVy = boid.Vy + delta_V[1]\n",
    "    newV = np.sqrt(newVx ** 2 + newVy **2)\n",
    "    scale = boid.V / newV\n",
    "    boid.Vx = newVx * scale\n",
    "    boid.Vy = newVy * scale\n",
    "\n",
    "\n",
    "def update(boid, dt=1):\n",
    "    add_lift(boid, dt = dt)\n",
    "    # Calculate forces\n",
    "    drag_force = np.array(boid.drag)\n",
    "    gravity_force = np.array(boid.gravity)\n",
    "\n",
    "    # Net force\n",
    "    net_force = gravity_force + drag_force \n",
    "\n",
    "    acceleration = net_force / boid.Mass\n",
    "    boid.Vx += acceleration[0] * dt\n",
    "    boid.Vy += acceleration[1] * dt\n",
    "\n",
    "    # Update position\n",
    "    boid.X += boid.Vx * dt\n",
    "    boid.Y += boid.Vy * dt\n",
    "\n",
    "    boid.atmosphere.height = boid.Y\n",
    "    \n",
    "def fastupdate(boid, dt=1):\n",
    "    # Calculate forces\n",
    "    drag_force = np.array(boid.drag)\n",
    "    lift_force = np.array(boid.lift)\n",
    "    gravity_force = np.array(boid.gravity)\n",
    "\n",
    "    # Net force\n",
    "    net_force = gravity_force + drag_force + lift_force\n",
    "\n",
    "    acceleration = net_force / boid.Mass\n",
    "    boid.Vx += acceleration[0] * dt\n",
    "    boid.Vy += acceleration[1] * dt\n",
    "\n",
    "\n",
    "    # Update position\n",
    "    boid.X += boid.Vx * dt\n",
    "    boid.Y += boid.Vy * dt\n",
    "\n",
    "\n",
    "    boid.atmosphere.height = boid.Y\n"
   ]
  },
  {
   "cell_type": "code",
   "execution_count": 3,
   "metadata": {},
   "outputs": [
    {
     "name": "stderr",
     "output_type": "stream",
     "text": [
      "2023-12-26 20:10:47.407 Python[5416:49595] WARNING: Secure coding is automatically enabled for restorable state! However, not on all supported macOS versions of this application. Opt-in to secure coding explicitly by implementing NSApplicationDelegate.applicationSupportsSecureRestorableState:.\n"
     ]
    },
    {
     "name": "stdout",
     "output_type": "stream",
     "text": [
      "Moviepy - Building video ../amt/singleboid.mp4.\n",
      "Moviepy - Writing video ../amt/singleboid.mp4\n",
      "\n"
     ]
    },
    {
     "name": "stderr",
     "output_type": "stream",
     "text": [
      "                                                               \r"
     ]
    },
    {
     "name": "stdout",
     "output_type": "stream",
     "text": [
      "Moviepy - Done !\n",
      "Moviepy - video ready ../amt/singleboid.mp4\n"
     ]
    }
   ],
   "source": [
    "boid = Boid2D(Y = 300, X = 50, Vx = 10) \n",
    "\n",
    "PixelToMeter = 1\n",
    "\n",
    "window_width = 800\n",
    "window_height = 600\n",
    "\n",
    "graphics = Graphics(\n",
    "    width = window_width,\n",
    "    height= window_height,\n",
    "    x = 2300,\n",
    "    y = 200\n",
    ")\n",
    "\n",
    "graphics.save_on_quit('../amt/singleboid.mp4', fps=60)\n",
    "\n",
    "graphics.init()\n",
    "\n",
    "running = True\n",
    "\n",
    "while running:\n",
    "    for event in graphics.event.get():\n",
    "        if event.type == graphics.QUIT:\n",
    "            running = False\n",
    "        if event.type == graphics.KEYDOWN:\n",
    "            if event.key == graphics.K_SPACE:\n",
    "               boid.flap()\n",
    "\n",
    "    update(boid, dt = 0.016)\n",
    "\n",
    "    graphics.blank()\n",
    "\n",
    "    position = (boid.X / PixelToMeter, (boid.Y / PixelToMeter))\n",
    "\n",
    "    graphics.draw_vector(position = position, vector = (boid.Vx, boid.Vy), color = (255,0,0))\n",
    "    graphics.draw_vector(position = position, vector = boid.drag, color = (255,0,0))\n",
    "    graphics.draw_vector(position = position, vector = boid.lift, color = (0,255,0))\n",
    "    graphics.draw_vector(position = position, vector = boid.gravity, color = (0,0,0))\n",
    "    graphics.draw_scale_indicator(PixelToMeter)\n",
    "    graphics.draw_boid(  position = position, angle = math.atan2(boid.Vy,boid.Vx), color = (0,0,255) if boid.can_flap() else (255,0,0))\n",
    "    graphics.draw_stats(stats = [\n",
    "        f\"V: {int(boid.V)} m/s Vx: {int(boid.Vx)} m/s Vy: {int(boid.Vy)} m/s\",\n",
    "        f\"E: {int(boid.energy)} J\",\n",
    "        f\"H: {int(boid.Y)} m\"\n",
    "    ])\n",
    "    \n",
    "    graphics.display()\n",
    "\n",
    "    graphics.clock.tick(60)\n",
    "\n",
    "graphics.quit()\n"
   ]
  }
 ],
 "metadata": {
  "kernelspec": {
   "display_name": "Python 3",
   "language": "python",
   "name": "python3"
  },
  "language_info": {
   "codemirror_mode": {
    "name": "ipython",
    "version": 3
   },
   "file_extension": ".py",
   "mimetype": "text/x-python",
   "name": "python",
   "nbconvert_exporter": "python",
   "pygments_lexer": "ipython3",
   "version": "3.9.6"
  }
 },
 "nbformat": 4,
 "nbformat_minor": 2
}
